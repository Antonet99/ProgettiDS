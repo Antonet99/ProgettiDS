{
 "cells": [
  {
   "cell_type": "code",
   "execution_count": 1,
   "metadata": {},
   "outputs": [],
   "source": [
    "import requests\n",
    "import json\n",
    "import keyboard\n",
    "\n",
    "api_key = \"74b04930d39039f068ed4796e9baf28a\"\n",
    "\n",
    "lang = \"ita\"\n",
    "limit = 3\n",
    "units = \"metric\"\n"
   ]
  },
  {
   "attachments": {},
   "cell_type": "markdown",
   "metadata": {},
   "source": [
    "# Richiesta città\n",
    "\n",
    "Conversione di una città da stringa a coppia di lat-lon "
   ]
  },
  {
   "cell_type": "code",
   "execution_count": 26,
   "metadata": {},
   "outputs": [
    {
     "name": "stdout",
     "output_type": "stream",
     "text": [
      "Le coordinate geografiche di Ancona sono: latitudine = 43.62, longitudine = 13.52\n"
     ]
    }
   ],
   "source": [
    "city = input(\"Insert a city: \")\n",
    "\n",
    "url_geo = \"http://api.openweathermap.org/geo/1.0/direct?q=%s&limit=%s&appid=%s\" % (city, limit, api_key)\n",
    "\n",
    "response = requests.get(url_geo)\n",
    "\n",
    "if response.status_code == 200:\n",
    "    # parsing della risposta JSON\n",
    "    json_data = response.json()\n",
    "    if len(json_data) > 0:\n",
    "        # accesso alle coordinate geografiche della città\n",
    "        lat = json_data[0]['lat']\n",
    "        lon = json_data[0]['lon']\n",
    "        \n",
    "        lat = round(lat, 2)\n",
    "        lon = round(lon, 2)\n",
    "        \n",
    "        print(f\"Le coordinate geografiche di {city} sono: latitudine = {lat}, longitudine = {lon}\")\n",
    "    else:\n",
    "        print(f\"Non sono state trovate informazioni geografiche per la città di {city}\")\n",
    "else:\n",
    "    print(\"Errore durante la richiesta delle informazioni geografiche\")\n"
   ]
  },
  {
   "attachments": {},
   "cell_type": "markdown",
   "metadata": {},
   "source": [
    "# Parametri meteo\n",
    "\n",
    "Scelta dei parametri meteo disponibili nel json di risposta dopo chiamata di tipo GET ad API di OpenWeatherMap"
   ]
  },
  {
   "cell_type": "code",
   "execution_count": 3,
   "metadata": {},
   "outputs": [
    {
     "name": "stdout",
     "output_type": "stream",
     "text": [
      "Scegliere un parametro tra quelli disponibili (1-6):\n",
      "1. Generale\n",
      "2. Temperatura\n",
      "3. Temperatura percepita\n",
      "4. Pressione\n",
      "5. Umidità\n",
      "6. Visibilità\n",
      "Parametro scelto: Generale\n",
      "Scegliere un parametro tra quelli disponibili (1-6):\n",
      "2. Temperatura\n",
      "3. Temperatura percepita\n",
      "4. Pressione\n",
      "5. Umidità\n",
      "6. Visibilità\n",
      "Parametro scelto: Temperatura\n",
      "Scegliere un parametro tra quelli disponibili (1-6):\n",
      "3. Temperatura percepita\n",
      "4. Pressione\n",
      "5. Umidità\n",
      "6. Visibilità\n",
      "Parametro scelto: Temperatura percepita\n",
      "Scegliere un parametro tra quelli disponibili (1-6):\n",
      "4. Pressione\n",
      "5. Umidità\n",
      "6. Visibilità\n",
      "Parametro scelto: Pressione\n",
      "Scegliere un parametro tra quelli disponibili (1-6):\n",
      "5. Umidità\n",
      "6. Visibilità\n",
      "Parametro scelto: Umidità\n",
      "Scegliere un parametro tra quelli disponibili (1-6):\n",
      "6. Visibilità\n",
      "Parametro scelto: Visibilità\n",
      "Hai scelto tutti i parametri.\n",
      "I parametri scelti sono:\n",
      "Generale\n",
      "Temperatura\n",
      "Temperatura percepita\n",
      "Pressione\n",
      "Umidità\n",
      "Visibilità\n"
     ]
    }
   ],
   "source": [
    "parametri = [\"Generale\", \"Temperatura\", \"Temperatura percepita\", \"Pressione\", \"Umidità\", \"Visibilità\"]\n",
    "\n",
    "scelte = []\n",
    "\n",
    "while len(scelte) < len(parametri):\n",
    "    \n",
    "    print(\"Scegliere un parametro tra quelli disponibili (1-6):\")\n",
    "    \n",
    "    for i, parametro in enumerate(parametri):\n",
    "        if parametro not in scelte:\n",
    "            print(f\"{i+1}. {parametro}\")\n",
    "    \n",
    "    scelta = input(\"Inserire la scelta del parametro (1-6). Digitare 'exit' per uscire: \")\n",
    "    \n",
    "    if scelta == \"exit\":\n",
    "        print(\"Programma interrotto.\")\n",
    "        break\n",
    "\n",
    "    #controllo input utente\n",
    "    try:\n",
    "        scelta = int(scelta)\n",
    "        \n",
    "        if scelta < 1 or scelta > len(parametri):\n",
    "            print(\"Scelta non valida.\")\n",
    "            continue\n",
    "        parametro_scelto = parametri[scelta-1]\n",
    "        \n",
    "        if parametro_scelto in scelte:\n",
    "            print(\"Parametro già scelto.\")\n",
    "            continue\n",
    "        \n",
    "    except ValueError:\n",
    "        \n",
    "        print(\"Scelta non valida.\")\n",
    "        continue\n",
    "    \n",
    "    # aggiunta del parametro scelto alla lista di scelte\n",
    "    scelte.append(parametro_scelto)\n",
    "    print(f\"Parametro scelto: {parametro_scelto}\")\n",
    "    \n",
    "    if len(scelte) == len(parametri):\n",
    "        print(\"Hai scelto tutti i parametri.\")\n",
    "        break\n",
    "    \n",
    "    # controllo della scelta di continuare\n",
    "    continua = input(\"Vuoi scegliere un altro parametro? (s/n): \")\n",
    "    if continua.lower() == \"n\":\n",
    "        break\n",
    "\n",
    "# stampa dei parametri scelti dall'utente\n",
    "print(\"I parametri scelti sono:\")\n",
    "for parametro in scelte:\n",
    "    print(parametro)\n",
    "\n"
   ]
  },
  {
   "attachments": {},
   "cell_type": "markdown",
   "metadata": {},
   "source": [
    "# Risultati\n",
    "\n",
    "Stampa dei parametri scelti "
   ]
  },
  {
   "cell_type": "code",
   "execution_count": 33,
   "metadata": {},
   "outputs": [
    {
     "name": "stdout",
     "output_type": "stream",
     "text": [
      "Previsioni meteo per Ancona\n",
      "Generale: Clouds\n",
      "Temperatura: 14.24 °C\n",
      "Umidità: 63 %\n"
     ]
    }
   ],
   "source": [
    "url = \"https://api.openweathermap.org/data/3.0/onecall?lat=%s&lon=%s&lang=%s&units=%s&appid=%s\" % (lat, lon, lang, units, api_key)\n",
    "\n",
    "response = requests.get(url)\n",
    "json_data = response.json()\n",
    "\n",
    "valori = {}\n",
    "for scelta in scelte:\n",
    "    if scelta == \"Generale\":\n",
    "        valori[scelta] = json_data[\"current\"][\"weather\"][0][\"main\"]\n",
    "    elif scelta == \"Temperatura\":\n",
    "        valori[scelta] = json_data[\"current\"][\"temp\"]\n",
    "    elif scelta == \"Temperatura percepita\":\n",
    "        valori[scelta] = json_data[\"current\"][\"feels_like\"]\n",
    "    elif scelta == \"Pressione\":\n",
    "        valori[scelta] = json_data[\"current\"][\"pressure\"]\n",
    "    elif scelta == \"Umidità\":\n",
    "        valori[scelta] = json_data[\"current\"][\"humidity\"]\n",
    "    elif scelta == \"Visibilità\":\n",
    "        valori[scelta] = json_data[\"current\"][\"visibility\"]\n",
    "\n",
    "print(f\"Previsioni meteo per {city}\")\n",
    "for scelta, valore in valori.items():\n",
    "    if scelta == \"Temperatura\":\n",
    "        print(f\"{scelta.capitalize()}: {valore} °C\")\n",
    "    elif scelta == \"Temperatura percepita\":\n",
    "        print(f\"{scelta.capitalize()}: {valore} °C\")\n",
    "    elif scelta == \"Pressione\":\n",
    "        print(f\"{scelta.capitalize()}: {valore} pH\")\n",
    "    elif scelta == \"Umidità\":\n",
    "        print(f\"{scelta.capitalize()}: {valore} %\")\n",
    "    elif scelta == \"Visibilità\":\n",
    "        print(f\"{scelta.capitalize()}: {valore} m\")\n",
    "    else:\n",
    "        print(f\"{scelta.capitalize()}: {valore}\")\n",
    "\n"
   ]
  },
  {
   "attachments": {},
   "cell_type": "markdown",
   "metadata": {},
   "source": [
    "# DA AGGIUNGERE\n",
    "\n",
    "To do:\n",
    "- previsioni future (forecast)\n",
    "- previsioni passate (historical)\n",
    "- aggiungere allerte meteo\n",
    "\n",
    "- integrazione con Rasa\n",
    "- integrazione con Telegram"
   ]
  },
  {
   "attachments": {},
   "cell_type": "markdown",
   "metadata": {},
   "source": [
    "# PROVA GIT"
   ]
  }
 ],
 "metadata": {
  "kernelspec": {
   "display_name": "Python 3",
   "language": "python",
   "name": "python3"
  },
  "language_info": {
   "codemirror_mode": {
    "name": "ipython",
    "version": 3
   },
   "file_extension": ".py",
   "mimetype": "text/x-python",
   "name": "python",
   "nbconvert_exporter": "python",
   "pygments_lexer": "ipython3",
   "version": "3.10.8"
  },
  "orig_nbformat": 4,
  "vscode": {
   "interpreter": {
    "hash": "f6306a48f369cb44828bf4be8deab6df454d1f3585c45e946b56025f9922931f"
   }
  }
 },
 "nbformat": 4,
 "nbformat_minor": 2
}
