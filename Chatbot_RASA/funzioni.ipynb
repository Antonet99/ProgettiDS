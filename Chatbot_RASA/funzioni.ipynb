{
 "cells": [
  {
   "cell_type": "code",
   "execution_count": 39,
   "metadata": {},
   "outputs": [],
   "source": [
    "import requests\n",
    "import json\n",
    "import datetime\n",
    "import sys\n",
    "\n",
    "path = \"/Users/antoniobaio/Desktop/Progetti/ProgettiDS/Chatbot_RASA/config.json\""
   ]
  },
  {
   "cell_type": "code",
   "execution_count": 40,
   "metadata": {},
   "outputs": [],
   "source": [
    "def configuration():\n",
    "\n",
    "    config = {}\n",
    "\n",
    "    config[\"api_key\"] = input(\"OWM API key: \")\n",
    "    config[\"city\"] = input(\"City: \")\n",
    "    config[\"unit\"] = input(\"Unit (metric/imperial) : \") or \"metric\"\n",
    "    config[\"lang\"] = input(\"Language: \") or \"it\"\n",
    "    config[\"limit\"] = input(\"Limit of response: \") or 2\n",
    "\n",
    "    with open(path, \"w+\") as config_json:\n",
    "        json.dump(config, config_json, indent=4)\n",
    "\n",
    "    return \"Configuration finished.\"\n"
   ]
  },
  {
   "cell_type": "code",
   "execution_count": 41,
   "metadata": {},
   "outputs": [
    {
     "data": {
      "text/plain": [
       "'Configuration finished.'"
      ]
     },
     "execution_count": 41,
     "metadata": {},
     "output_type": "execute_result"
    }
   ],
   "source": [
    "configuration()"
   ]
  },
  {
   "cell_type": "code",
   "execution_count": null,
   "metadata": {},
   "outputs": [],
   "source": [
    "def get_config_data():\n",
    "    \n",
    "    config = {}\n",
    "\n",
    "    with open(\"config.json\") as config_json:\n",
    "        data = json.load(config_json)\n",
    "        config = {key: value for key, value in data.items()}\n",
    "\n",
    "    return config\n",
    "\n",
    "get_config_data()"
   ]
  },
  {
   "cell_type": "code",
   "execution_count": 10,
   "metadata": {},
   "outputs": [
    {
     "data": {
      "text/plain": [
       "(43.6, 13.5)"
      ]
     },
     "execution_count": 10,
     "metadata": {},
     "output_type": "execute_result"
    }
   ],
   "source": [
    "def get_lat_lon():\n",
    "    \n",
    "    config = get_config_data()  \n",
    "    api_key = config[\"api_key\"]  \n",
    "    city = config[\"city\"]\n",
    "    limit = config[\"limit\"]\n",
    "\n",
    "    url = ( \n",
    "        f\"http://api.openweathermap.org/geo/1.0/direct?\"\n",
    "        f\"q={city}&limit={limit}&appid={api_key}\"\n",
    "    )\n",
    "    response = requests.get(url)\n",
    "    \n",
    "    if response.status_code == 200:\n",
    "         # parsing della risposta JSON\n",
    "        data = response.json()\n",
    "        if len(data) > 0:\n",
    "            # accesso alle coordinate geografiche della città\n",
    "            lat = data[0]['lat']\n",
    "            lon = data[0]['lon']\n",
    "            \n",
    "            lat = round(lat, 1)\n",
    "            lon = round(lon, 1)\n",
    "            \n",
    "            return lat, lon\n",
    "        else:\n",
    "            print(f\"Non sono state trovate informazioni geografiche per la città di {city}\")\n",
    "    else: \n",
    "        print(\"Errore durante la richiesta delle informazioni geografiche\")\n",
    "\n",
    "get_lat_lon(\"Ancona\")"
   ]
  },
  {
   "cell_type": "code",
   "execution_count": 13,
   "metadata": {},
   "outputs": [
    {
     "data": {
      "text/plain": [
       "43.6"
      ]
     },
     "execution_count": 13,
     "metadata": {},
     "output_type": "execute_result"
    }
   ],
   "source": [
    "get_lat_lon(\"Ancona\")[0]"
   ]
  },
  {
   "cell_type": "code",
   "execution_count": 28,
   "metadata": {},
   "outputs": [],
   "source": [
    "def get_weather_data():\n",
    "    \"\"\"Get weather data from the API and return the necessary data.\"\"\"\n",
    "    \n",
    "    config = get_config_data()  \n",
    "    city = config[\"city\"]\n",
    "    \n",
    "    url = (\n",
    "        f\"https://api.openweathermap.org/data/3.0/onecall?\"\n",
    "        f\"lat={get_lat_lon(city)[0]}&lon={get_lat_lon(city)[1]}\"\n",
    "        f\"&lang={get_config_data()['lang']}\"\n",
    "        f\"&units={get_config_data()['unit']}\"\n",
    "        f\"&exclude=hourly,daily,minutely\"\n",
    "        f\"&appid={get_config_data()['api_key']}\"\n",
    "    )\n",
    "    \n",
    "    try:\n",
    "        response = requests.get(url)\n",
    "        response.raise_for_status()\n",
    "        \n",
    "    except requests.HTTPError:\n",
    "        status = response.status_code\n",
    "        if status == 401:\n",
    "            print(\"Invalid API key.\")\n",
    "        elif status == 404:\n",
    "            print(\"Invalid input.\")\n",
    "        elif status in (429, 443):\n",
    "            print(\"API calls per minute exceeded.\")\n",
    "\n",
    "        sys.exit(1)\n",
    "\n",
    "    data = response.json()\n",
    "\n",
    "    weather_info = {\n",
    "        \"lat\": data[\"lat\"],\n",
    "        \"lon\": data[\"lon\"],\n",
    "        \"timezone\": data[\"timezone\"],\n",
    "        \"main\": data[\"current\"][\"weather\"][0][\"main\"],\n",
    "        \"description\": data[\"current\"][\"weather\"][0][\"description\"].title(),\n",
    "        \"temp\": data[\"current\"][\"temp\"],\n",
    "        \"feels_like\": data[\"current\"][\"feels_like\"],\n",
    "        \"pressure\": data[\"current\"][\"pressure\"],\n",
    "        \"humidity\": data[\"current\"][\"humidity\"],\n",
    "        \"wind_speed\": data[\"current\"][\"wind_speed\"],\n",
    "        \"wind_deg\": data[\"current\"][\"wind_deg\"],\n",
    "        \"unit\": get_config_data()['unit'],\n",
    "        \"lang\": get_config_data()['lang'],\n",
    "    }\n",
    "    \n",
    "    return weather_info"
   ]
  },
  {
   "cell_type": "code",
   "execution_count": 29,
   "metadata": {},
   "outputs": [
    {
     "data": {
      "text/plain": [
       "{'lat': 43.6,\n",
       " 'lon': 13.5,\n",
       " 'timezone': 'Europe/Rome',\n",
       " 'main': 'Clouds',\n",
       " 'description': 'Broken Clouds',\n",
       " 'temp': 12.63,\n",
       " 'feels_like': 11.57,\n",
       " 'pressure': 1010,\n",
       " 'humidity': 62,\n",
       " 'wind_speed': 0.51,\n",
       " 'wind_deg': 0,\n",
       " 'unit': 'metric',\n",
       " 'lang': 'ita'}"
      ]
     },
     "execution_count": 29,
     "metadata": {},
     "output_type": "execute_result"
    }
   ],
   "source": [
    "get_weather_data(\"Ancona\")"
   ]
  }
 ],
 "metadata": {
  "kernelspec": {
   "display_name": "Python 3",
   "language": "python",
   "name": "python3"
  },
  "language_info": {
   "codemirror_mode": {
    "name": "ipython",
    "version": 3
   },
   "file_extension": ".py",
   "mimetype": "text/x-python",
   "name": "python",
   "nbconvert_exporter": "python",
   "pygments_lexer": "ipython3",
   "version": "3.10.8"
  },
  "orig_nbformat": 4,
  "vscode": {
   "interpreter": {
    "hash": "f6306a48f369cb44828bf4be8deab6df454d1f3585c45e946b56025f9922931f"
   }
  }
 },
 "nbformat": 4,
 "nbformat_minor": 2
}
