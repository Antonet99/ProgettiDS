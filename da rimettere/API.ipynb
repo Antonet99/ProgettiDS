{
 "cells": [
  {
   "cell_type": "code",
   "execution_count": 1,
   "metadata": {},
   "outputs": [],
   "source": [
    "import requests\n",
    "import json\n",
    "import datetime\n",
    "\n",
    "api_key = \"\"\n",
    "\n",
    "lang = \"ita\"\n",
    "limit = 3\n",
    "unit = \"metric\"\n",
    "\n",
    "\n"
   ]
  },
  {
   "attachments": {},
   "cell_type": "markdown",
   "metadata": {},
   "source": [
    "# Richiesta città\n",
    "\n",
    "Conversione di una città da stringa a coppia di lat-lon "
   ]
  },
  {
   "cell_type": "code",
   "execution_count": 26,
   "metadata": {},
   "outputs": [
    {
     "name": "stdout",
     "output_type": "stream",
     "text": [
      "Le coordinate geografiche di Ancona sono: latitudine = 43.62, longitudine = 13.52\n"
     ]
    }
   ],
   "source": [
    "city = input(\"Insert a city: \")\n",
    "\n",
    "url_geo = \"http://api.openweathermap.org/geo/1.0/direct?q=%s&limit=%s&appid=%s\" % (city, limit, api_key)\n",
    "\n",
    "response = requests.get(url_geo)\n",
    "\n",
    "if response.status_code == 200:\n",
    "    # parsing della risposta JSON\n",
    "    json_data = response.json()\n",
    "    if len(json_data) > 0:\n",
    "        # accesso alle coordinate geografiche della città\n",
    "        lat = json_data[0]['lat']\n",
    "        lon = json_data[0]['lon']\n",
    "        \n",
    "        lat = round(lat, 1)\n",
    "        lon = round(lon, 1)\n",
    "        \n",
    "        print(f\"Le coordinate geografiche di {city} sono: latitudine = {lat}, longitudine = {lon}\")\n",
    "    else:\n",
    "        print(f\"Non sono state trovate informazioni geografiche per la città di {city}\")\n",
    "else:\n",
    "    print(\"Errore durante la richiesta delle informazioni geografiche\")\n"
   ]
  },
  {
   "attachments": {},
   "cell_type": "markdown",
   "metadata": {},
   "source": [
    "# Scelta del tempo\n",
    "\n",
    "L'utente può decidere se ottenere le previsioni meteo per un periodo passato, futuro o presente"
   ]
  },
  {
   "cell_type": "code",
   "execution_count": null,
   "metadata": {},
   "outputs": [],
   "source": []
  },
  {
   "attachments": {},
   "cell_type": "markdown",
   "metadata": {},
   "source": [
    "# Parametri meteo\n",
    "\n",
    "Scelta dei parametri meteo disponibili nel json di risposta dopo chiamata di tipo GET ad API di OpenWeatherMap"
   ]
  },
  {
   "cell_type": "code",
   "execution_count": 3,
   "metadata": {},
   "outputs": [
    {
     "name": "stdout",
     "output_type": "stream",
     "text": [
      "Scegliere un parametro tra quelli disponibili (1-6):\n",
      "1. Generale\n",
      "2. Temperatura\n",
      "3. Temperatura percepita\n",
      "4. Pressione\n",
      "5. Umidità\n",
      "6. Visibilità\n",
      "Parametro scelto: Generale\n",
      "Scegliere un parametro tra quelli disponibili (1-6):\n",
      "2. Temperatura\n",
      "3. Temperatura percepita\n",
      "4. Pressione\n",
      "5. Umidità\n",
      "6. Visibilità\n",
      "Parametro scelto: Temperatura\n",
      "Scegliere un parametro tra quelli disponibili (1-6):\n",
      "3. Temperatura percepita\n",
      "4. Pressione\n",
      "5. Umidità\n",
      "6. Visibilità\n",
      "Parametro scelto: Temperatura percepita\n",
      "Scegliere un parametro tra quelli disponibili (1-6):\n",
      "4. Pressione\n",
      "5. Umidità\n",
      "6. Visibilità\n",
      "Parametro scelto: Pressione\n",
      "Scegliere un parametro tra quelli disponibili (1-6):\n",
      "5. Umidità\n",
      "6. Visibilità\n",
      "Parametro scelto: Umidità\n",
      "Scegliere un parametro tra quelli disponibili (1-6):\n",
      "6. Visibilità\n",
      "Parametro scelto: Visibilità\n",
      "Hai scelto tutti i parametri.\n",
      "I parametri scelti sono:\n",
      "Generale\n",
      "Temperatura\n",
      "Temperatura percepita\n",
      "Pressione\n",
      "Umidità\n",
      "Visibilità\n"
     ]
    }
   ],
   "source": [
    "parametri = [\"Generale\", \"Temperatura\", \"Temperatura percepita\", \"Pressione\", \"Umidità\", \"Visibilità\"]\n",
    "\n",
    "scelte = []\n",
    "\n",
    "while len(scelte) < len(parametri):\n",
    "    \n",
    "    print(\"Scegliere un parametro tra quelli disponibili (1-6):\")\n",
    "    \n",
    "    for i, parametro in enumerate(parametri):\n",
    "        if parametro not in scelte:\n",
    "            print(f\"{i+1}. {parametro}\")\n",
    "    \n",
    "    scelta = input(\"Inserire la scelta del parametro (1-6). Digitare 'exit' per uscire: \")\n",
    "    \n",
    "    if scelta == \"exit\":\n",
    "        print(\"Programma interrotto.\")\n",
    "        break\n",
    "\n",
    "    #controllo input utente\n",
    "    try:\n",
    "        scelta = int(scelta)\n",
    "        \n",
    "        if scelta < 1 or scelta > len(parametri):\n",
    "            print(\"Scelta non valida.\")\n",
    "            continue\n",
    "        parametro_scelto = parametri[scelta-1]\n",
    "        \n",
    "        if parametro_scelto in scelte:\n",
    "            print(\"Parametro già scelto.\")\n",
    "            continue\n",
    "        \n",
    "    except ValueError:\n",
    "        \n",
    "        print(\"Scelta non valida.\")\n",
    "        continue\n",
    "    \n",
    "    # aggiunta del parametro scelto alla lista di scelte\n",
    "    scelte.append(parametro_scelto)\n",
    "    print(f\"Parametro scelto: {parametro_scelto}\")\n",
    "    \n",
    "    if len(scelte) == len(parametri):\n",
    "        print(\"Hai scelto tutti i parametri.\")\n",
    "        break\n",
    "    \n",
    "    # controllo della scelta di continuare\n",
    "    continua = input(\"Vuoi scegliere un altro parametro? (s/n): \")\n",
    "    if continua.lower() == \"n\":\n",
    "        break\n",
    "\n",
    "# stampa dei parametri scelti dall'utente\n",
    "print(\"I parametri scelti sono:\")\n",
    "for parametro in scelte:\n",
    "    print(parametro)\n",
    "\n"
   ]
  },
  {
   "attachments": {},
   "cell_type": "markdown",
   "metadata": {},
   "source": [
    "# Risultati\n",
    "\n",
    "Stampa dei parametri scelti "
   ]
  },
  {
   "cell_type": "code",
   "execution_count": null,
   "metadata": {},
   "outputs": [],
   "source": []
  },
  {
   "cell_type": "code",
   "execution_count": 33,
   "metadata": {},
   "outputs": [
    {
     "name": "stdout",
     "output_type": "stream",
     "text": [
      "Previsioni meteo per Ancona\n",
      "Generale: Clouds\n",
      "Temperatura: 14.24 °C\n",
      "Umidità: 63 %\n"
     ]
    }
   ],
   "source": [
    "url = \"https://api.openweathermap.org/data/3.0/onecall?lat=%s&lon=%s&lang=%s&units=%s&appid=%s\" % (lat, lon, lang, units, api_key)\n",
    "\n",
    "response = requests.get(url)\n",
    "json_data = response.json()\n",
    "\n",
    "valori = {}\n",
    "for scelta in scelte:\n",
    "    if scelta == \"Generale\":\n",
    "        valori[scelta] = json_data[\"current\"][\"weather\"][0][\"main\"]\n",
    "    elif scelta == \"Temperatura\":\n",
    "        valori[scelta] = json_data[\"current\"][\"temp\"]\n",
    "    elif scelta == \"Temperatura percepita\":\n",
    "        valori[scelta] = json_data[\"current\"][\"feels_like\"]\n",
    "    elif scelta == \"Pressione\":\n",
    "        valori[scelta] = json_data[\"current\"][\"pressure\"]\n",
    "    elif scelta == \"Umidità\":\n",
    "        valori[scelta] = json_data[\"current\"][\"humidity\"]\n",
    "    elif scelta == \"Visibilità\":\n",
    "        valori[scelta] = json_data[\"current\"][\"visibility\"]\n",
    "\n",
    "print(f\"Previsioni meteo per {city}\")\n",
    "for scelta, valore in valori.items():\n",
    "    if scelta == \"Temperatura\":\n",
    "        print(f\"{scelta.capitalize()}: {valore} °C\")\n",
    "    elif scelta == \"Temperatura percepita\":\n",
    "        print(f\"{scelta.capitalize()}: {valore} °C\")\n",
    "    elif scelta == \"Pressione\":\n",
    "        print(f\"{scelta.capitalize()}: {valore} hPa\")\n",
    "    elif scelta == \"Umidità\":\n",
    "        print(f\"{scelta.capitalize()}: {valore} %\")\n",
    "    elif scelta == \"Visibilità\":\n",
    "        print(f\"{scelta.capitalize()}: {valore} m\")\n",
    "    else:\n",
    "        print(f\"{scelta.capitalize()}: {valore}\")\n",
    "\n"
   ]
  },
  {
   "attachments": {},
   "cell_type": "markdown",
   "metadata": {},
   "source": [
    "# DA AGGIUNGERE\n",
    "\n",
    "To do:\n",
    "- previsioni future (forecast)\n",
    "- previsioni passate (historical)\n",
    "- aggiungere allerte meteo\n",
    "\n",
    "- integrazione con Rasa\n",
    "- integrazione con Telegram"
   ]
  },
  {
   "attachments": {},
   "cell_type": "markdown",
   "metadata": {},
   "source": [
    "# PROVA GIT"
   ]
  },
  {
   "cell_type": "code",
   "execution_count": 1,
   "metadata": {},
   "outputs": [],
   "source": [
    "import requests\n",
    "import json\n",
    "import datetime\n",
    "import sys\n",
    "\n",
    "def get_lat_lon(city):\n",
    "    \n",
    "    url = ( \n",
    "        f\"http://api.openweathermap.org/geo/1.0/direct?\"\n",
    "        f\"q={city}&limit=2&appid=74b04930d39039f068ed4796e9baf28a\"\n",
    "    )\n",
    "    response = requests.get(url)\n",
    "    \n",
    "    if response.status_code == 200:\n",
    "         # parsing della risposta JSON\n",
    "        data = response.json()\n",
    "        if len(data) > 0:\n",
    "            # accesso alle coordinate geografiche della città\n",
    "            lat = data[0]['lat']\n",
    "            lon = data[0]['lon']\n",
    "            \n",
    "            lat = round(lat, 1)\n",
    "            lon = round(lon, 1)\n",
    "            \n",
    "            return lat, lon\n",
    "        else:\n",
    "            print(f\"Non sono state trovate informazioni geografiche per la città di {city}\")\n",
    "    else: \n",
    "        print(\"Errore durante la richiesta delle informazioni geografiche\")\n",
    "\n",
    "\n",
    "def get_weather_data(city):\n",
    "    \"\"\"Get weather data from the API and return the necessary data.\"\"\"\n",
    "    \n",
    "    #config = get_config_data()  \n",
    "    #city = config[\"city\"]\n",
    "    \n",
    "    url = (\n",
    "        f\"https://api.openweathermap.org/data/3.0/onecall?\"\n",
    "        f\"lat={get_lat_lon(city)[0]}&lon={get_lat_lon(city)[1]}\"\n",
    "        f\"&lang=en\"\n",
    "        f\"&units=metric\"\n",
    "        f\"&exclude=hourly,daily,minutely\"\n",
    "        f\"&appid=74b04930d39039f068ed4796e9baf28a\"\n",
    "    )\n",
    "    \n",
    "    \n",
    "    try:\n",
    "        response = requests.get(url)\n",
    "        response.raise_for_status()\n",
    "        \n",
    "    except requests.HTTPError:\n",
    "        status = response.status_code\n",
    "        if status == 401:\n",
    "            print(\"Invalid API key.\")\n",
    "        elif status == 404:\n",
    "            print(\"Invalid input.\")\n",
    "        elif status in (429, 443):\n",
    "            print(\"API calls per minute exceeded.\")\n",
    "\n",
    "        sys.exit(1)\n",
    "\n",
    "    weather_data = response.json()\n",
    "    \n",
    "    return weather_data"
   ]
  },
  {
   "cell_type": "code",
   "execution_count": 2,
   "metadata": {},
   "outputs": [
    {
     "data": {
      "text/plain": [
       "{'lat': 43.6,\n",
       " 'lon': 13.5,\n",
       " 'timezone': 'Europe/Rome',\n",
       " 'timezone_offset': 3600,\n",
       " 'current': {'dt': 1677846321,\n",
       "  'sunrise': 1677822014,\n",
       "  'sunset': 1677862570,\n",
       "  'temp': 8.14,\n",
       "  'feels_like': 4.82,\n",
       "  'pressure': 1017,\n",
       "  'humidity': 67,\n",
       "  'dew_point': 2.39,\n",
       "  'uvi': 2.38,\n",
       "  'clouds': 100,\n",
       "  'visibility': 8000,\n",
       "  'wind_speed': 6.17,\n",
       "  'wind_deg': 330,\n",
       "  'weather': [{'id': 501,\n",
       "    'main': 'Rain',\n",
       "    'description': 'moderate rain',\n",
       "    'icon': '10d'}],\n",
       "  'rain': {'1h': 1.15}},\n",
       " 'alerts': [{'sender_name': 'Italian Air Force National Meteorological Service',\n",
       "   'event': 'Yellow Snow-ice Warning',\n",
       "   'start': 1677841200,\n",
       "   'end': 1677884340,\n",
       "   'description': 'Moderate intensity weather phenomena expected > 1200 m\\n (DISCLAIMER: \"Information provided on METEOALARM for Italy regard only the intensity and recurrence of the phenomena, further details can be found at www.meteoam.it. METEOALARM information do not provide the assessment of impact on the territory and they do not represent the Official Alerts messages that are issued by the National Civil Protection Service https://www.protezionecivile.gov.it\")',\n",
       "   'tags': ['Snow/Ice']}]}"
      ]
     },
     "execution_count": 2,
     "metadata": {},
     "output_type": "execute_result"
    }
   ],
   "source": [
    "get_weather_data(\"Ancona\")"
   ]
  },
  {
   "cell_type": "code",
   "execution_count": 24,
   "metadata": {},
   "outputs": [],
   "source": [
    "def print_weather_data(weather_data):\n",
    "    print(f\"Location: {weather_data['lat']}, {weather_data['lon']}\")\n",
    "    print(f\"Timezone: {weather_data['timezone']}\")\n",
    "    print(f\"Current Time: {weather_data['datetime']}\")\n",
    "    print(f\"Weather: {weather_data['description']} ({weather_data['main']})\")\n",
    "    print(f\"Temperature: {weather_data['temp']}°C\")\n",
    "    print(f\"Feels Like: {weather_data['feels_like']}°C\")\n",
    "    print(f\"Pressure: {weather_data['pressure']} hPa\")\n",
    "    print(f\"Humidity: {weather_data['humidity']}%\")\n",
    "    print(f\"Wind Speed: {weather_data['wind_speed']} m/s\")\n",
    "    print(f\"Wind Direction: {weather_data['wind_deg']}°\")"
   ]
  },
  {
   "cell_type": "code",
   "execution_count": 25,
   "metadata": {},
   "outputs": [
    {
     "name": "stdout",
     "output_type": "stream",
     "text": [
      "Location: 43.6, 13.5\n",
      "Timezone: Europe/Rome\n",
      "Current Time: 2023-03-01 15:24:44\n",
      "Weather: Overcast Clouds (Clouds)\n",
      "Temperature: 8.35°C\n",
      "Feels Like: 5.92°C\n",
      "Pressure: 1015 hPa\n",
      "Humidity: 62%\n",
      "Wind Speed: 4.12 m/s\n",
      "Wind Direction: 260°\n"
     ]
    }
   ],
   "source": [
    "print_weather_data(get_weather_data(\"Ancona\"))"
   ]
  },
  {
   "cell_type": "code",
   "execution_count": null,
   "metadata": {},
   "outputs": [],
   "source": []
  }
 ],
 "metadata": {
  "kernelspec": {
   "display_name": "Python 3",
   "language": "python",
   "name": "python3"
  },
  "language_info": {
   "codemirror_mode": {
    "name": "ipython",
    "version": 3
   },
   "file_extension": ".py",
   "mimetype": "text/x-python",
   "name": "python",
   "nbconvert_exporter": "python",
   "pygments_lexer": "ipython3",
   "version": "3.10.8"
  },
  "orig_nbformat": 4,
  "vscode": {
   "interpreter": {
    "hash": "f6306a48f369cb44828bf4be8deab6df454d1f3585c45e946b56025f9922931f"
   }
  }
 },
 "nbformat": 4,
 "nbformat_minor": 2
}
